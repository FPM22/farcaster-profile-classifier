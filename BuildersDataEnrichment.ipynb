{
  "nbformat": 4,
  "nbformat_minor": 0,
  "metadata": {
    "colab": {
      "provenance": [],
      "authorship_tag": "ABX9TyOJOrqGJujGms/z2FLoqwRh",
      "include_colab_link": true
    },
    "kernelspec": {
      "name": "python3",
      "display_name": "Python 3"
    },
    "language_info": {
      "name": "python"
    }
  },
  "cells": [
    {
      "cell_type": "markdown",
      "metadata": {
        "id": "view-in-github",
        "colab_type": "text"
      },
      "source": [
        "<a href=\"https://colab.research.google.com/github/FPM22/farcaster-profile-classifier/blob/main/BuildersDataEnrichment.ipynb\" target=\"_parent\"><img src=\"https://colab.research.google.com/assets/colab-badge.svg\" alt=\"Open In Colab\"/></a>"
      ]
    },
    {
      "cell_type": "code",
      "execution_count": null,
      "metadata": {
        "id": "D1yBITxExHfM"
      },
      "outputs": [],
      "source": [
        "!pip install --upgrade openai gspread oauth2client\n",
        "\n",
        "from openai import OpenAI\n",
        "import gspread\n",
        "from oauth2client.service_account import ServiceAccountCredentials\n",
        "import pandas as pd\n",
        "from google.colab import files\n",
        "import json\n",
        "\n",
        "# Upload your credentials file\n",
        "uploaded = files.upload()\n",
        "\n",
        "# === CONFIGURATION ===\n",
        "\n",
        "# Create OpenAI client\n",
        "client = OpenAI(api_key='sk-proj-...')\n",
        "\n",
        "# Google Sheets authentication\n",
        "credentials = ServiceAccountCredentials.from_json_keyfile_name(\n",
        "    'credenciales.json',\n",
        "    ['https://spreadsheets.google.com/feeds', 'https://www.googleapis.com/auth/drive']\n",
        ")\n",
        "\n",
        "# Google Sheet ID and sheet name\n",
        "sheet_id = '1ZyvpG5s8ASUVLnkwczniv3Mtxqt1ZIE-tYbC0esgtNE'\n",
        "sheet_name = 'builders_list'  # make sure the name is correct\n",
        "\n",
        "# === LOAD DATA ===\n",
        "\n",
        "gc = gspread.authorize(credentials)\n",
        "sheet = gc.open_by_key(sheet_id)\n",
        "worksheet = sheet.worksheet(sheet_name)\n",
        "data = pd.DataFrame(worksheet.get_all_records())\n",
        "\n",
        "# Filter rows that need classification\n",
        "df_to_categorize = data[(data['category'] == '') | (data['commercial_category'] == '')]\n",
        "\n",
        "# === GPT FUNCTIONS ===\n",
        "\n",
        "def classify_bio_with_gpt(bio):\n",
        "    prompt = f\"\"\"\n",
        "Given this Farcaster user profile:\n",
        "\n",
        "\"{bio}\"\n",
        "\n",
        "Assign two tags:\n",
        "\n",
        "- category: choose one from Founder, Employee, Active Community Member, or N/A.\n",
        "- commercial_category: choose one from Business, Community, or N/A.\n",
        "\n",
        "Respond in JSON like this: {{\"category\": \"...\", \"commercial_category\": \"...\"}}\n",
        "    \"\"\"\n",
        "    try:\n",
        "        response = client.chat.completions.create(\n",
        "            model=\"gpt-4\",\n",
        "            messages=[{\"role\": \"user\", \"content\": prompt}],\n",
        "            temperature=0.2\n",
        "        )\n",
        "        content = response.choices[0].message.content\n",
        "        result = json.loads(content)\n",
        "        return result['category'], result['commercial_category']\n",
        "    except Exception as e:\n",
        "        print(f\"⚠️ Error with bio: {bio}\\n{e}\")\n",
        "        return \"N/A\", \"N/A\"\n",
        "\n",
        "# === AUTOMATIC CLASSIFICATION ===\n",
        "\n",
        "for idx, row in df_to_categorize.iterrows():\n",
        "    print(f\"🔍 Classifying row {idx}...\")\n",
        "    cat, com_cat = classify_bio_with_gpt(row['bio'])\n",
        "    data.at[idx, 'category'] = cat\n",
        "    data.at[idx, 'commercial_category'] = com_cat\n",
        "\n",
        "# === OPTIONAL LOCAL BACKUP ===\n",
        "data.to_csv(\"backup_builders_list.csv\", index=False)\n",
        "\n",
        "# === UPDATE SHEET ===\n",
        "worksheet.update([data.columns.values.tolist()] + data.values.tolist())\n",
        "print(\"✅ Classification completed and sheet updated.\")\n"
      ]
    }
  ]
}